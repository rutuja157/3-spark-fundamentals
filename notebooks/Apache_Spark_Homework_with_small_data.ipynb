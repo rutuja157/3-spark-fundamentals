{
 "cells": [
  {
   "cell_type": "code",
   "execution_count": 1,
   "id": "bfe23e38-8f64-47ce-9fa2-94a3d3fd2df8",
   "metadata": {},
   "outputs": [
    {
     "data": {
      "text/plain": [
       "Intitializing Scala interpreter ..."
      ]
     },
     "metadata": {},
     "output_type": "display_data"
    },
    {
     "data": {
      "text/plain": [
       "Spark Web UI available at http://f83b10fae2d6:4040\n",
       "SparkContext available as 'sc' (version = 3.5.5, master = local[*], app id = local-1754935957994)\n",
       "SparkSession available as 'spark'\n"
      ]
     },
     "metadata": {},
     "output_type": "display_data"
    },
    {
     "data": {
      "text/plain": [
       "import org.apache.spark.sql.functions.{broadcast, split, lit}\n"
      ]
     },
     "execution_count": 1,
     "metadata": {},
     "output_type": "execute_result"
    }
   ],
   "source": [
    "import org.apache.spark.sql.functions.{broadcast, split, lit}"
   ]
  },
  {
   "cell_type": "code",
   "execution_count": 2,
   "id": "87a0eb64-441a-448d-97f9-107d45c7c066",
   "metadata": {},
   "outputs": [
    {
     "data": {
      "text/plain": [
       "matchesBucketed: org.apache.spark.sql.DataFrame = [match_id: string, mapid: string ... 8 more fields]\n",
       "matchDetailsBucketed: org.apache.spark.sql.DataFrame = [match_id: string, player_gamertag: string ... 34 more fields]\n"
      ]
     },
     "execution_count": 2,
     "metadata": {},
     "output_type": "execute_result"
    }
   ],
   "source": [
    "val matchesBucketed = spark.read.option(\"header\", \"true\")\n",
    "                        .option(\"inferSchema\", \"true\")\n",
    "                        .csv(\"/home/iceberg/data/matches.csv\")\n",
    "val matchDetailsBucketed =  spark.read.option(\"header\", \"true\")\n",
    "                        .option(\"inferSchema\", \"true\")\n",
    "                        .csv(\"/home/iceberg/data/match_details.csv\")"
   ]
  },
  {
   "cell_type": "code",
   "execution_count": 3,
   "id": "41572963-7ca5-4acb-9574-e5600900cff3",
   "metadata": {},
   "outputs": [
    {
     "data": {
      "text/plain": [
       "medalsmatchesplayersBucketed: org.apache.spark.sql.DataFrame = [match_id: string, player_gamertag: string ... 2 more fields]\n",
       "medalsBucketed: org.apache.spark.sql.DataFrame = [medal_id: bigint, sprite_uri: string ... 10 more fields]\n"
      ]
     },
     "execution_count": 3,
     "metadata": {},
     "output_type": "execute_result"
    }
   ],
   "source": [
    "val medalsmatchesplayersBucketed = spark.read.option(\"header\", \"true\")\n",
    "                        .option(\"inferSchema\", \"true\")\n",
    "                        .csv(\"/home/iceberg/data/medals_matches_players.csv\")\n",
    "val medalsBucketed =  spark.read.option(\"header\", \"true\")\n",
    "                        .option(\"inferSchema\", \"true\")\n",
    "                        .csv(\"/home/iceberg/data/medals.csv\")"
   ]
  },
  {
   "cell_type": "code",
   "execution_count": 4,
   "id": "5423bc40-cb81-4d01-9073-cad4df504407",
   "metadata": {},
   "outputs": [
    {
     "name": "stdout",
     "output_type": "stream",
     "text": [
      "+------------------------------------+-----+\n",
      "|match_id                            |count|\n",
      "+------------------------------------+-----+\n",
      "|4740f30e-2e38-4cae-b858-3ea5a588bc84|24   |\n",
      "|0a2e9cc8-b84c-46bb-a769-b49dd444a3f0|24   |\n",
      "|6b4ffe69-a4c1-44b6-9f46-48cad1bd9a14|22   |\n",
      "|d9780cc1-b5fb-45d6-a194-f7806e769519|22   |\n",
      "|fcf70b21-3fdf-4957-af2e-21a171424bb3|21   |\n",
      "|1de1abd4-e662-48a6-8c20-1716cfe7408c|21   |\n",
      "|308a12a5-f1fa-4002-9088-f2dd0a140aab|21   |\n",
      "|e9f11daf-0be9-478d-aa27-452399d12258|21   |\n",
      "|5ed62e3e-56b9-4ebf-8f0e-13707a644b52|21   |\n",
      "|19f53054-cefc-42be-874c-4dbfea6b27b6|21   |\n",
      "+------------------------------------+-----+\n",
      "\n"
     ]
    },
    {
     "data": {
      "text/plain": [
       "import org.apache.spark.sql.functions._\n",
       "import spark.implicits._\n",
       "top10MatchIdsDF: org.apache.spark.sql.Dataset[org.apache.spark.sql.Row] = [match_id: string, count: bigint]\n"
      ]
     },
     "execution_count": 4,
     "metadata": {},
     "output_type": "execute_result"
    }
   ],
   "source": [
    "import org.apache.spark.sql.functions._\n",
    "import spark.implicits._\n",
    "\n",
    "val top10MatchIdsDF =\n",
    "  matchDetailsBucketed\n",
    "    .groupBy($\"match_id\")\n",
    "    .count()\n",
    "    .orderBy(desc(\"count\"))\n",
    "    .limit(10)\n",
    "\n",
    "top10MatchIdsDF.show(false)   // sanity check"
   ]
  },
  {
   "cell_type": "code",
   "execution_count": 5,
   "id": "fb1cbc60-0d01-496a-b559-365230bb2dae",
   "metadata": {
    "scrolled": true
   },
   "outputs": [
    {
     "name": "stdout",
     "output_type": "stream",
     "text": [
      "root\n",
      " |-- match_id: string (nullable = true)\n",
      " |-- mapid: string (nullable = true)\n",
      " |-- is_team_game: boolean (nullable = true)\n",
      " |-- playlist_id: string (nullable = true)\n",
      " |-- game_variant_id: string (nullable = true)\n",
      " |-- is_match_over: boolean (nullable = true)\n",
      " |-- completion_date: timestamp (nullable = true)\n",
      " |-- match_duration: string (nullable = true)\n",
      " |-- game_mode: string (nullable = true)\n",
      " |-- map_variant_id: string (nullable = true)\n",
      "\n",
      "root\n",
      " |-- match_id: string (nullable = true)\n",
      " |-- player_gamertag: string (nullable = true)\n",
      " |-- previous_spartan_rank: integer (nullable = true)\n",
      " |-- spartan_rank: integer (nullable = true)\n",
      " |-- previous_total_xp: integer (nullable = true)\n",
      " |-- total_xp: integer (nullable = true)\n",
      " |-- previous_csr_tier: integer (nullable = true)\n",
      " |-- previous_csr_designation: integer (nullable = true)\n",
      " |-- previous_csr: integer (nullable = true)\n",
      " |-- previous_csr_percent_to_next_tier: integer (nullable = true)\n",
      " |-- previous_csr_rank: integer (nullable = true)\n",
      " |-- current_csr_tier: integer (nullable = true)\n",
      " |-- current_csr_designation: integer (nullable = true)\n",
      " |-- current_csr: integer (nullable = true)\n",
      " |-- current_csr_percent_to_next_tier: integer (nullable = true)\n",
      " |-- current_csr_rank: integer (nullable = true)\n",
      " |-- player_rank_on_team: integer (nullable = true)\n",
      " |-- player_finished: boolean (nullable = true)\n",
      " |-- player_average_life: string (nullable = true)\n",
      " |-- player_total_kills: integer (nullable = true)\n",
      " |-- player_total_headshots: integer (nullable = true)\n",
      " |-- player_total_weapon_damage: double (nullable = true)\n",
      " |-- player_total_shots_landed: integer (nullable = true)\n",
      " |-- player_total_melee_kills: integer (nullable = true)\n",
      " |-- player_total_melee_damage: double (nullable = true)\n",
      " |-- player_total_assassinations: integer (nullable = true)\n",
      " |-- player_total_ground_pound_kills: integer (nullable = true)\n",
      " |-- player_total_shoulder_bash_kills: integer (nullable = true)\n",
      " |-- player_total_grenade_damage: double (nullable = true)\n",
      " |-- player_total_power_weapon_damage: double (nullable = true)\n",
      " |-- player_total_power_weapon_grabs: integer (nullable = true)\n",
      " |-- player_total_deaths: integer (nullable = true)\n",
      " |-- player_total_assists: integer (nullable = true)\n",
      " |-- player_total_grenade_kills: integer (nullable = true)\n",
      " |-- did_win: integer (nullable = true)\n",
      " |-- team_id: integer (nullable = true)\n",
      "\n"
     ]
    }
   ],
   "source": [
    "matchesBucketed.printSchema()        // See columns and data types\n",
    "matchDetailsBucketed.printSchema()"
   ]
  },
  {
   "cell_type": "code",
   "execution_count": 6,
   "id": "ab07696c-5553-415a-a099-a08c6be56930",
   "metadata": {},
   "outputs": [
    {
     "name": "stdout",
     "output_type": "stream",
     "text": [
      "root\n",
      " |-- match_id: string (nullable = true)\n",
      " |-- player_gamertag: string (nullable = true)\n",
      " |-- medal_id: long (nullable = true)\n",
      " |-- count: integer (nullable = true)\n",
      "\n",
      "root\n",
      " |-- medal_id: long (nullable = true)\n",
      " |-- sprite_uri: string (nullable = true)\n",
      " |-- sprite_left: integer (nullable = true)\n",
      " |-- sprite_top: integer (nullable = true)\n",
      " |-- sprite_sheet_width: integer (nullable = true)\n",
      " |-- sprite_sheet_height: integer (nullable = true)\n",
      " |-- sprite_width: integer (nullable = true)\n",
      " |-- sprite_height: integer (nullable = true)\n",
      " |-- classification: string (nullable = true)\n",
      " |-- description: string (nullable = true)\n",
      " |-- name: string (nullable = true)\n",
      " |-- difficulty: integer (nullable = true)\n",
      "\n"
     ]
    }
   ],
   "source": [
    "medalsmatchesplayersBucketed.printSchema()        // See columns and data types\n",
    "medalsBucketed.printSchema()"
   ]
  },
  {
   "cell_type": "code",
   "execution_count": null,
   "id": "cdbe0072-8276-4b11-9be1-77863cda5cc7",
   "metadata": {},
   "outputs": [],
   "source": [
    "# Disabled automatic broadcast join with `spark.conf.set(\"spark.sql.autoBroadcastJoinThreshold\", \"-1\")`"
   ]
  },
  {
   "cell_type": "code",
   "execution_count": 7,
   "id": "de0db58d-f280-443b-a582-949cf0545ddf",
   "metadata": {},
   "outputs": [],
   "source": [
    "spark.conf.set(\"spark.sql.autoBroadcastJoinThreshold\", -1)"
   ]
  },
  {
   "cell_type": "code",
   "execution_count": 8,
   "id": "f9bdeb7d-97e6-4871-b636-0c28d5c06151",
   "metadata": {},
   "outputs": [
    {
     "data": {
      "text/plain": [
       "mapsBucketed: org.apache.spark.sql.DataFrame = [mapid: string, name: string ... 1 more field]\n"
      ]
     },
     "execution_count": 8,
     "metadata": {},
     "output_type": "execute_result"
    }
   ],
   "source": [
    "val mapsBucketed =  spark.read.option(\"header\", \"true\")\n",
    "                        .option(\"inferSchema\", \"true\")\n",
    "                        .csv(\"/home/iceberg/data/maps.csv\")"
   ]
  },
  {
   "cell_type": "code",
   "execution_count": 9,
   "id": "5b35ad5f-5055-4cbe-bf48-965be11bce1b",
   "metadata": {},
   "outputs": [
    {
     "name": "stdout",
     "output_type": "stream",
     "text": [
      "root\n",
      " |-- mapid: string (nullable = true)\n",
      " |-- name: string (nullable = true)\n",
      " |-- description: string (nullable = true)\n",
      "\n"
     ]
    }
   ],
   "source": [
    "mapsBucketed.printSchema()"
   ]
  },
  {
   "cell_type": "code",
   "execution_count": 9,
   "id": "db4c0cd9-2457-4fa6-91a2-a198ae0039df",
   "metadata": {},
   "outputs": [
    {
     "ename": "<console>",
     "evalue": "2: error: ';' expected but '#' found.",
     "output_type": "error",
     "traceback": [
      "<console>:2: error: ';' expected but '#' found.",
      "       # These tables are small (few rows, used for lookup).",
      "       ^",
      "<console>:3: error: illegal character '\\u2014'",
      "       # Broadcasting avoids shuffling big tables and makes joins efficient—but only for these, since we disabled auto-broadcast globally.",
      "                                                                           ^",
      ""
     ]
    }
   ],
   "source": [
    "# These tables are small (few rows, used for lookup).\n",
    "# Broadcasting avoids shuffling big tables and makes joins efficient—but only for these, since we disabled auto-broadcast globally."
   ]
  },
  {
   "cell_type": "code",
   "execution_count": 10,
   "id": "5c689c19-e038-472b-a5e7-239c0dab2346",
   "metadata": {},
   "outputs": [
    {
     "data": {
      "text/plain": [
       "medalsBroadcasted: org.apache.spark.sql.Dataset[org.apache.spark.sql.Row] = [medal_id: bigint, sprite_uri: string ... 10 more fields]\n",
       "mapsBroadcasted: org.apache.spark.sql.Dataset[org.apache.spark.sql.Row] = [mapid: string, name: string ... 1 more field]\n"
      ]
     },
     "execution_count": 10,
     "metadata": {},
     "output_type": "execute_result"
    }
   ],
   "source": [
    "val medalsBroadcasted = broadcast(medalsBucketed)\n",
    "val mapsBroadcasted = broadcast(mapsBucketed)"
   ]
  },
  {
   "cell_type": "code",
   "execution_count": 11,
   "id": "9b39baad-e716-4e3f-ac9a-12658dc64422",
   "metadata": {},
   "outputs": [
    {
     "data": {
      "text/plain": [
       "medalDetails: org.apache.spark.sql.DataFrame = [medal_id: bigint, match_id: string ... 13 more fields]\n"
      ]
     },
     "execution_count": 11,
     "metadata": {},
     "output_type": "execute_result"
    }
   ],
   "source": [
    "val medalDetails = medalsmatchesplayersBucketed\n",
    "  .join(medalsBroadcasted, Seq(\"medal_id\"), \"left\")"
   ]
  },
  {
   "cell_type": "code",
   "execution_count": null,
   "id": "53a9a0a9-95ac-4864-83f6-b9589b36be84",
   "metadata": {},
   "outputs": [],
   "source": [
    "# Explicitly broadcast JOINs `medals` and `maps`"
   ]
  },
  {
   "cell_type": "code",
   "execution_count": null,
   "id": "5a062ff8-0b86-4fd5-a3d2-2df1e6c5d895",
   "metadata": {},
   "outputs": [],
   "source": []
  },
  {
   "cell_type": "code",
   "execution_count": 12,
   "id": "81c6278b-b973-4b5d-8540-cfe3981d4bbe",
   "metadata": {},
   "outputs": [
    {
     "data": {
      "text/plain": [
       "matchesWithMapName: org.apache.spark.sql.DataFrame = [mapid: string, match_id: string ... 10 more fields]\n"
      ]
     },
     "execution_count": 12,
     "metadata": {},
     "output_type": "execute_result"
    }
   ],
   "source": [
    "val matchesWithMapName = matchesBucketed\n",
    "  .join(mapsBroadcasted, Seq(\"mapid\"), \"left\")"
   ]
  },
  {
   "cell_type": "code",
   "execution_count": null,
   "id": "cad988f0-eee1-47da-8432-8417d59a58ec",
   "metadata": {},
   "outputs": [],
   "source": [
    "# Bucket join match_details, matches, and medals_matches_players on match_id with 16 buckets\n",
    "# Bucketing splits your data into a fixed number of files (\"buckets\") by the column you choose—here, match_id.\n",
    "# When you write & then read bucketed tables on the same column, Spark can join them efficiently (avoiding shuffles)."
   ]
  },
  {
   "cell_type": "code",
   "execution_count": null,
   "id": "a0656311-a475-47ce-a7d7-5ddda24595e9",
   "metadata": {},
   "outputs": [],
   "source": [
    "#  Steps to Bucket the Three Tables\n",
    "# Write each table as a bucketed table on match_id (16 buckets):"
   ]
  },
  {
   "cell_type": "code",
   "execution_count": 16,
   "id": "e3fd0134-dd69-4ec2-90ed-c6c8762199aa",
   "metadata": {},
   "outputs": [
    {
     "name": "stdout",
     "output_type": "stream",
     "text": [
      "+---------+---------------+-----------+\n",
      "|namespace|      tableName|isTemporary|\n",
      "+---------+---------------+-----------+\n",
      "| bootcamp|         events|      false|\n",
      "| bootcamp|  events_sorted|      false|\n",
      "| bootcamp|events_unsorted|      false|\n",
      "+---------+---------------+-----------+\n",
      "\n"
     ]
    }
   ],
   "source": [
    "spark.sql(\"SHOW TABLES IN bootcamp;\").show()"
   ]
  },
  {
   "cell_type": "code",
   "execution_count": null,
   "id": "b956fc29-cec0-4fb8-a59d-ca0ffe9cf713",
   "metadata": {
    "scrolled": true
   },
   "outputs": [],
   "source": [
    "# spark.sql(\"DESCRIBE TABLE bootcamp.matches_bucketed\")\n"
   ]
  },
  {
   "cell_type": "code",
   "execution_count": 15,
   "id": "173bd78f-913e-45d8-8469-bec6e9fb4093",
   "metadata": {},
   "outputs": [
    {
     "data": {
      "text/plain": [
       "res7: org.apache.spark.sql.DataFrame = []\n"
      ]
     },
     "execution_count": 15,
     "metadata": {},
     "output_type": "execute_result"
    }
   ],
   "source": [
    "spark.sql(\"DROP TABLE IF EXISTS bootcamp.matches_bucketed\")\n",
    "spark.sql(\"DROP TABLE IF EXISTS bootcamp.match_details_bucketed\")\n",
    "spark.sql(\"DROP TABLE IF EXISTS bootcamp.medals_matches_players_bucketed\")"
   ]
  },
  {
   "cell_type": "code",
   "execution_count": null,
   "id": "f9ddaf1b-a509-40a1-bc04-8706f2c3ce1c",
   "metadata": {},
   "outputs": [],
   "source": [
    "# spark.sql(\"\"\"DROP TABLE IF EXISTS bootcamp.matches_bucketed\"\"\")\n",
    "# val bucketedDDL = \"\"\"\n",
    "# CREATE TABLE IF NOT EXISTS bootcamp.matches_bucketed (\n",
    "#      match_id STRING,\n",
    "#      is_team_game BOOLEAN,\n",
    "#      playlist_id STRING,\n",
    "#      completion_date TIMESTAMP\n",
    "#  )\n",
    "#  USING iceberg\n",
    "#  PARTITIONED BY (completion_date, bucket(16, match_id));\n",
    "#  \"\"\"\n",
    "#  spark.sql(bucketedDDL)"
   ]
  },
  {
   "cell_type": "code",
   "execution_count": 17,
   "id": "db9c1275-2e47-40ef-95de-8e4ea882a944",
   "metadata": {},
   "outputs": [
    {
     "data": {
      "text/plain": [
       "matchesDDL: String =\n",
       "\"\n",
       "CREATE TABLE IF NOT EXISTS bootcamp.matches_bucketed (\n",
       "     match_id STRING,\n",
       "     mapid STRING,\n",
       "     is_team_game BOOLEAN,\n",
       "     playlist_id STRING,\n",
       "     game_variant_id STRING,\n",
       "     is_match_over BOOLEAN,\n",
       "     completion_date TIMESTAMP\n",
       " )\n",
       " USING iceberg\n",
       " PARTITIONED BY (completion_date, bucket(16, match_id))\n",
       "\"\n",
       "res9: org.apache.spark.sql.DataFrame = []\n"
      ]
     },
     "execution_count": 17,
     "metadata": {},
     "output_type": "execute_result"
    }
   ],
   "source": [
    "val matchesDDL = \"\"\"\n",
    "CREATE TABLE IF NOT EXISTS bootcamp.matches_bucketed (\n",
    "     match_id STRING,\n",
    "     mapid STRING,\n",
    "     is_team_game BOOLEAN,\n",
    "     playlist_id STRING,\n",
    "     game_variant_id STRING,\n",
    "     is_match_over BOOLEAN,\n",
    "     completion_date TIMESTAMP\n",
    " )\n",
    " USING iceberg\n",
    " PARTITIONED BY (completion_date, bucket(16, match_id))\n",
    "\"\"\"\n",
    "spark.sql(matchesDDL)"
   ]
  },
  {
   "cell_type": "code",
   "execution_count": 18,
   "id": "a2987919-3a15-4bda-9a82-50546602dcfe",
   "metadata": {},
   "outputs": [
    {
     "name": "stdout",
     "output_type": "stream",
     "text": [
      "+----------------------------+-------------------------------------------------------------------------------------------------------+-------+\n",
      "|col_name                    |data_type                                                                                              |comment|\n",
      "+----------------------------+-------------------------------------------------------------------------------------------------------+-------+\n",
      "|match_id                    |string                                                                                                 |NULL   |\n",
      "|mapid                       |string                                                                                                 |NULL   |\n",
      "|is_team_game                |boolean                                                                                                |NULL   |\n",
      "|playlist_id                 |string                                                                                                 |NULL   |\n",
      "|game_variant_id             |string                                                                                                 |NULL   |\n",
      "|is_match_over               |boolean                                                                                                |NULL   |\n",
      "|completion_date             |timestamp                                                                                              |NULL   |\n",
      "|                            |                                                                                                       |       |\n",
      "|# Partitioning              |                                                                                                       |       |\n",
      "|Part 0                      |completion_date                                                                                        |       |\n",
      "|Part 1                      |bucket(16, match_id)                                                                                   |       |\n",
      "|                            |                                                                                                       |       |\n",
      "|# Metadata Columns          |                                                                                                       |       |\n",
      "|_spec_id                    |int                                                                                                    |       |\n",
      "|_partition                  |struct<completion_date:timestamp,match_id_bucket:int>                                                  |       |\n",
      "|_file                       |string                                                                                                 |       |\n",
      "|_pos                        |bigint                                                                                                 |       |\n",
      "|_deleted                    |boolean                                                                                                |       |\n",
      "|                            |                                                                                                       |       |\n",
      "|# Detailed Table Information|                                                                                                       |       |\n",
      "|Name                        |demo.bootcamp.matches_bucketed                                                                         |       |\n",
      "|Type                        |MANAGED                                                                                                |       |\n",
      "|Location                    |s3://warehouse/bootcamp/matches_bucketed                                                               |       |\n",
      "|Provider                    |iceberg                                                                                                |       |\n",
      "|Owner                       |root                                                                                                   |       |\n",
      "|Table Properties            |[current-snapshot-id=none,format=iceberg/parquet,format-version=2,write.parquet.compression-codec=zstd]|       |\n",
      "+----------------------------+-------------------------------------------------------------------------------------------------------+-------+\n",
      "\n"
     ]
    }
   ],
   "source": [
    "// See the table structure (columns, partitioning)\n",
    "spark.sql(\"DESCRIBE FORMATTED bootcamp.matches_bucketed\").show(100, false)"
   ]
  },
  {
   "cell_type": "code",
   "execution_count": 19,
   "id": "1c823059-48bb-430b-b61a-0405c7111c4a",
   "metadata": {},
   "outputs": [
    {
     "data": {
      "text/plain": [
       "res11: Long = 0\n"
      ]
     },
     "execution_count": 19,
     "metadata": {},
     "output_type": "execute_result"
    }
   ],
   "source": [
    "spark.table(\"bootcamp.matches_bucketed\").count()"
   ]
  },
  {
   "cell_type": "code",
   "execution_count": 20,
   "id": "749aa70e",
   "metadata": {},
   "outputs": [
    {
     "data": {
      "text/plain": [
       "res12: Long = 24025\n"
      ]
     },
     "execution_count": 20,
     "metadata": {},
     "output_type": "execute_result"
    }
   ],
   "source": [
    "matchesWithMapName.count()"
   ]
  },
  {
   "cell_type": "code",
   "execution_count": 21,
   "id": "3986f443-b241-46ed-8ec8-c2f4621913c6",
   "metadata": {},
   "outputs": [
    {
     "data": {
      "text/plain": [
       "matchDetailsDDL: String =\n",
       "\"\n",
       "CREATE TABLE IF NOT EXISTS bootcamp.match_details_bucketed (\n",
       "     match_id STRING,\n",
       "     player_gamertag STRING,\n",
       "     player_total_kills INT,\n",
       "     player_total_deaths INT,\n",
       "     player_total_assists INT,\n",
       "     team_id INT\n",
       "     -- (add more columns if needed, matching your data)\n",
       " )\n",
       " USING iceberg\n",
       " PARTITIONED BY (bucket(16, match_id))\n",
       "\"\n",
       "res13: org.apache.spark.sql.DataFrame = []\n"
      ]
     },
     "execution_count": 21,
     "metadata": {},
     "output_type": "execute_result"
    }
   ],
   "source": [
    "val matchDetailsDDL = \"\"\"\n",
    "CREATE TABLE IF NOT EXISTS bootcamp.match_details_bucketed (\n",
    "     match_id STRING,\n",
    "     player_gamertag STRING,\n",
    "     player_total_kills INT,\n",
    "     player_total_deaths INT,\n",
    "     player_total_assists INT,\n",
    "     team_id INT\n",
    "     -- (add more columns if needed, matching your data)\n",
    " )\n",
    " USING iceberg\n",
    " PARTITIONED BY (bucket(16, match_id))\n",
    "\"\"\"\n",
    "spark.sql(matchDetailsDDL)"
   ]
  },
  {
   "cell_type": "code",
   "execution_count": 22,
   "id": "07c5e32d-1a78-49f8-83bd-2a5226b6a42f",
   "metadata": {},
   "outputs": [
    {
     "data": {
      "text/plain": [
       "medalsMatchesPlayersDDL: String =\n",
       "\"\n",
       "CREATE TABLE IF NOT EXISTS bootcamp.medals_matches_players_bucketed (\n",
       "     match_id STRING,\n",
       "     player_gamertag STRING,\n",
       "     medal_id LONG,\n",
       "     count INT\n",
       " )\n",
       " USING iceberg\n",
       " PARTITIONED BY (bucket(16, match_id))\n",
       "\"\n",
       "res14: org.apache.spark.sql.DataFrame = []\n"
      ]
     },
     "execution_count": 22,
     "metadata": {},
     "output_type": "execute_result"
    }
   ],
   "source": [
    "val medalsMatchesPlayersDDL = \"\"\"\n",
    "CREATE TABLE IF NOT EXISTS bootcamp.medals_matches_players_bucketed (\n",
    "     match_id STRING,\n",
    "     player_gamertag STRING,\n",
    "     medal_id LONG,\n",
    "     count INT\n",
    " )\n",
    " USING iceberg\n",
    " PARTITIONED BY (bucket(16, match_id))\n",
    "\"\"\"\n",
    "spark.sql(medalsMatchesPlayersDDL)"
   ]
  },
  {
   "cell_type": "code",
   "execution_count": 23,
   "id": "eb244a4a-92c4-4740-ac21-2c7e79b89e57",
   "metadata": {},
   "outputs": [
    {
     "data": {
      "text/plain": [
       "res15: Long = 24025\n"
      ]
     },
     "execution_count": 23,
     "metadata": {},
     "output_type": "execute_result"
    }
   ],
   "source": [
    "matchesBucketed.count()"
   ]
  },
  {
   "cell_type": "code",
   "execution_count": null,
   "id": "05222667-6b12-4f93-bc33-93a6b79982e9",
   "metadata": {},
   "outputs": [],
   "source": [
    "# val batchSize = 1000 // Adjust based on your cluster resources\n",
    "\n",
    "# matchesBucketed\n",
    "#   .repartition(10) // Adjust partition count based on your cluster\n",
    "#   .select(\n",
    "#     $\"match_id\",\n",
    "#     $\"mapid\", \n",
    "#     $\"is_team_game\",\n",
    "#     $\"playlist_id\",\n",
    "#     $\"game_variant_id\",\n",
    "#     $\"is_match_over\",\n",
    "#     $\"completion_date\"\n",
    "#   )\n",
    "#   .write\n",
    "#   .mode(\"append\")\n",
    "#   .option(\"write.distribution-mode\", \"hash\") // Use hash distribution for Iceberg\n",
    "#   .insertInto(\"bootcamp.matches_bucketed\")"
   ]
  },
  {
   "cell_type": "code",
   "execution_count": null,
   "id": "c4f58852-a6fc-46aa-8c1e-988ddbd3562b",
   "metadata": {},
   "outputs": [],
   "source": [
    "# matchesBucketed\n",
    "#   .select(\n",
    "#     $\"match_id\",\n",
    "#     $\"mapid\",\n",
    "#     $\"is_team_game\", \n",
    "#     $\"playlist_id\",\n",
    "#     $\"game_variant_id\",\n",
    "#     $\"is_match_over\",\n",
    "#     $\"completion_date\"\n",
    "#   )\n",
    "#   .write\n",
    "#   .mode(\"append\")\n",
    "#   .option(\"write.distribution-mode\", \"hash\")\n",
    "#   .option(\"write.fanout.enabled\", \"true\") // Enable fanout for better performance\n",
    "#   .option(\"write.target-file-size-bytes\", \"134217728\") // 128MB target file size\n",
    "#   .insertInto(\"bootcamp.matches_bucketed\")"
   ]
  },
  {
   "cell_type": "code",
   "execution_count": 37,
   "id": "7d2d52ae",
   "metadata": {},
   "outputs": [
    {
     "data": {
      "text/plain": [
       "res27: Long = 0\n"
      ]
     },
     "execution_count": 37,
     "metadata": {},
     "output_type": "execute_result"
    }
   ],
   "source": [
    "spark.table(\"bootcamp.matches_bucketed\").count()"
   ]
  },
  {
   "cell_type": "code",
   "execution_count": 22,
   "id": "22cadd18-ea5f-46c4-9f23-3679833264e2",
   "metadata": {},
   "outputs": [
    {
     "name": "stdout",
     "output_type": "stream",
     "text": [
      "Total rows for given match_ids: 5\n"
     ]
    },
    {
     "data": {
      "text/plain": [
       "import spark.implicits._\n",
       "matchIds: Seq[String] = List(4740f30e-2e38-4cae-b858-3ea5a588bc84, 0a2e9cc8-b84c-46bb-a769-b49dd444a3f0, 6b4ffe69-a4c1-44b6-9f46-48cad1bd9a14, d9780cc1-b5fb-45d6-a194-f7806e769519, fcf70b21-3fdf-4957-af2e-21a171424bb3)\n",
       "filteredCount: Long = 5\n"
      ]
     },
     "execution_count": 22,
     "metadata": {},
     "output_type": "execute_result"
    }
   ],
   "source": [
    "# import spark.implicits._\n",
    "\n",
    "# // Define the IDs you care about\n",
    "# val matchIds = Seq(\n",
    "#   \"4740f30e-2e38-4cae-b858-3ea5a588bc84\",\n",
    "#   \"0a2e9cc8-b84c-46bb-a769-b49dd444a3f0\",\n",
    "#   \"6b4ffe69-a4c1-44b6-9f46-48cad1bd9a14\",\n",
    "#   \"d9780cc1-b5fb-45d6-a194-f7806e769519\",\n",
    "#   \"fcf70b21-3fdf-4957-af2e-21a171424bb3\"\n",
    "# )\n",
    "\n",
    "# // Filter and count\n",
    "# val filteredCount = matchesBucketed\n",
    "#   .filter($\"match_id\".isin(matchIds: _*))\n",
    "#   .count()\n",
    "\n",
    "# println(s\"Total rows for given match_ids: $filteredCount\")"
   ]
  },
  {
   "cell_type": "code",
   "execution_count": 24,
   "id": "efaad44f-915d-4dda-8627-a8ab99e8a36a",
   "metadata": {},
   "outputs": [
    {
     "name": "stdout",
     "output_type": "stream",
     "text": [
      "+------------------------------------+-----+\n",
      "|match_id                            |count|\n",
      "+------------------------------------+-----+\n",
      "|4740f30e-2e38-4cae-b858-3ea5a588bc84|24   |\n",
      "|0a2e9cc8-b84c-46bb-a769-b49dd444a3f0|24   |\n",
      "|6b4ffe69-a4c1-44b6-9f46-48cad1bd9a14|22   |\n",
      "|d9780cc1-b5fb-45d6-a194-f7806e769519|22   |\n",
      "|fcf70b21-3fdf-4957-af2e-21a171424bb3|21   |\n",
      "|1de1abd4-e662-48a6-8c20-1716cfe7408c|21   |\n",
      "|308a12a5-f1fa-4002-9088-f2dd0a140aab|21   |\n",
      "|e9f11daf-0be9-478d-aa27-452399d12258|21   |\n",
      "|5ed62e3e-56b9-4ebf-8f0e-13707a644b52|21   |\n",
      "|19f53054-cefc-42be-874c-4dbfea6b27b6|21   |\n",
      "|41c411e0-7273-4954-bbf3-1720667f0f75|20   |\n",
      "|2895a8b8-ffbd-49e8-8863-ffe0f319636d|20   |\n",
      "|614f85c6-2846-4d2a-bbd6-21890465655f|20   |\n",
      "|afee7207-db02-437d-b805-df39374ad7be|20   |\n",
      "|aee287dc-d260-4c9b-ba11-c5ce0592ec13|20   |\n",
      "|a9317e5b-4aa5-40b0-a736-5e5417a2c980|20   |\n",
      "|d37847b8-92f2-48b6-8848-0ed2e9ee00cd|20   |\n",
      "|123c93eb-522f-408c-9b2d-8c1012be9b3b|20   |\n",
      "|59e9dc52-5065-402d-a41a-81bbc15a085a|20   |\n",
      "|a6af8f27-2f99-4746-aebf-cb86790b3d74|20   |\n",
      "+------------------------------------+-----+\n",
      "only showing top 20 rows\n",
      "\n"
     ]
    },
    {
     "data": {
      "text/plain": [
       "import org.apache.spark.sql.functions._\n",
       "import spark.implicits._\n",
       "top100MatchCounts: org.apache.spark.sql.Dataset[org.apache.spark.sql.Row] = [match_id: string, count: bigint]\n",
       "top100IdsDF: org.apache.spark.sql.DataFrame = [match_id: string]\n"
      ]
     },
     "execution_count": 24,
     "metadata": {},
     "output_type": "execute_result"
    }
   ],
   "source": [
    "import org.apache.spark.sql.functions._\n",
    "import spark.implicits._\n",
    "\n",
    "// 1) Count rows per match_id and take top 100\n",
    "val top100MatchCounts =\n",
    "  matchDetailsBucketed\n",
    "    .groupBy($\"match_id\")\n",
    "    .count()\n",
    "    .orderBy(desc(\"count\"))\n",
    "    .limit(100)\n",
    "\n",
    "// See the 100 IDs and their counts\n",
    "top100MatchCounts.show(false)\n",
    "\n",
    "// Keep just the IDs for filtering/joins\n",
    "val top100IdsDF = top100MatchCounts.select($\"match_id\")"
   ]
  },
  {
   "cell_type": "code",
   "execution_count": 25,
   "id": "2ef77405-c13f-4aef-93d6-e5e6536cba47",
   "metadata": {},
   "outputs": [
    {
     "name": "stdout",
     "output_type": "stream",
     "text": [
      "Rows to load: 100\n",
      "+------------------------------------+------------------------------------+------------+------------------------------------+------------------------------------+-------------+-------------------+\n",
      "|match_id                            |mapid                               |is_team_game|playlist_id                         |game_variant_id                     |is_match_over|completion_date    |\n",
      "+------------------------------------+------------------------------------+------------+------------------------------------+------------------------------------+-------------+-------------------+\n",
      "|0001a1c4-83dc-4f40-a97e-7910a765c96a|c7805740-f206-11e4-982c-24be05e24f7e|true        |780cc101-005c-4fca-8ce7-6f36d7156ffe|b45854a7-e6e1-4a9c-9104-139934511779|true         |2016-01-06 00:00:00|\n",
      "|035f360e-989b-4cea-bb71-9c70a236d0f0|c7805740-f206-11e4-982c-24be05e24f7e|true        |780cc101-005c-4fca-8ce7-6f36d7156ffe|8d4a3dbc-ef7a-405e-862b-34093ff582fd|true         |2016-02-20 00:00:00|\n",
      "|05f7b277-c3c5-42f3-8d66-faf1d94012d8|c7805740-f206-11e4-982c-24be05e24f7e|NULL        |780cc101-005c-4fca-8ce7-6f36d7156ffe|b45854a7-e6e1-4a9c-9104-139934511779|NULL         |2016-01-15 00:00:00|\n",
      "|0707b168-5f17-4345-8003-c26106e85a84|c7805740-f206-11e4-982c-24be05e24f7e|true        |780cc101-005c-4fca-8ce7-6f36d7156ffe|65f033d2-1303-4748-bc26-ef62c38eced4|true         |2016-01-19 00:00:00|\n",
      "|08085db2-4172-4a57-8942-980028ec9f8a|c74c9d0f-f206-11e4-8330-24be05e24f7e|true        |780cc101-005c-4fca-8ce7-6f36d7156ffe|65f033d2-1303-4748-bc26-ef62c38eced4|true         |2016-01-28 00:00:00|\n",
      "+------------------------------------+------------------------------------+------------+------------------------------------+------------------------------------+-------------+-------------------+\n",
      "only showing top 5 rows\n",
      "\n"
     ]
    },
    {
     "data": {
      "text/plain": [
       "matchesTop100: org.apache.spark.sql.DataFrame = [match_id: string, mapid: string ... 5 more fields]\n"
      ]
     },
     "execution_count": 25,
     "metadata": {},
     "output_type": "execute_result"
    }
   ],
   "source": [
    "// Filter the matches CSV to only the top-100 match_ids\n",
    "val matchesTop100 =\n",
    "  matchesBucketed\n",
    "    .join(top100IdsDF, Seq(\"match_id\"), \"inner\")\n",
    "    .select(\n",
    "      $\"match_id\",\n",
    "      $\"mapid\",\n",
    "      $\"is_team_game\",\n",
    "      $\"playlist_id\",\n",
    "      $\"game_variant_id\",\n",
    "      $\"is_match_over\",\n",
    "      $\"completion_date\"\n",
    "    )\n",
    "\n",
    "// Optional sanity checks\n",
    "println(s\"Rows to load: ${matchesTop100.count()}\")\n",
    "matchesTop100.show(5, truncate = false)\n",
    "\n",
    "// Insert ONLY these rows into the Iceberg table\n",
    "matchesTop100\n",
    "  .write\n",
    "  .mode(\"append\")\n",
    "  .insertInto(\"bootcamp.matches_bucketed\")"
   ]
  },
  {
   "cell_type": "code",
   "execution_count": null,
   "id": "42563f4e-996e-412e-8966-4c9e521ce45a",
   "metadata": {},
   "outputs": [],
   "source": []
  },
  {
   "cell_type": "code",
   "execution_count": null,
   "id": "e6743de3-b2eb-447c-8ff3-470fda27e855",
   "metadata": {},
   "outputs": [],
   "source": []
  },
  {
   "cell_type": "code",
   "execution_count": null,
   "id": "06cb4242-ddea-458d-88e6-845544bfcffa",
   "metadata": {},
   "outputs": [],
   "source": []
  },
  {
   "cell_type": "code",
   "execution_count": 20,
   "id": "034d45b3-8cb6-4bc3-bcd4-a7fe4ebdb865",
   "metadata": {},
   "outputs": [],
   "source": [
    "# matchesBucketed\n",
    "#   .limit(100)\n",
    "#   .select(\n",
    "#     $\"match_id\",\n",
    "#     $\"mapid\",\n",
    "#     $\"is_team_game\",\n",
    "#     $\"playlist_id\",\n",
    "#     $\"game_variant_id\",\n",
    "#     $\"is_match_over\",\n",
    "#     $\"completion_date\"\n",
    "#   )\n",
    "#   .write\n",
    "#   .mode(\"append\")\n",
    "#   .insertInto(\"bootcamp.matches_bucketed\")"
   ]
  },
  {
   "cell_type": "code",
   "execution_count": 40,
   "id": "813538ba-7915-44ab-bf79-8176fc740879",
   "metadata": {},
   "outputs": [
    {
     "name": "stdout",
     "output_type": "stream",
     "text": [
      "+--------------------+--------------------+------------+--------------------+--------------------+-------------+-------------------+\n",
      "|            match_id|               mapid|is_team_game|         playlist_id|     game_variant_id|is_match_over|    completion_date|\n",
      "+--------------------+--------------------+------------+--------------------+--------------------+-------------+-------------------+\n",
      "|5c4309f2-9150-4e1...|c74c9d0f-f206-11e...|        true|780cc101-005c-4fc...|b45854a7-e6e1-4a9...|         true|2016-01-17 00:00:00|\n",
      "|d33e5f70-f75a-4c4...|c74c9d0f-f206-11e...|        true|0bcf2be1-3168-4e4...|b45854a7-e6e1-4a9...|         true|2015-11-20 00:00:00|\n",
      "|b60ac716-e437-427...|c74c9d0f-f206-11e...|        true|780cc101-005c-4fc...|b45854a7-e6e1-4a9...|         true|2016-02-19 00:00:00|\n",
      "|5dbe750f-95c8-45d...|c7b7baf0-f206-11e...|        true|780cc101-005c-4fc...|b45854a7-e6e1-4a9...|         true|2016-02-19 00:00:00|\n",
      "|f9476ecb-2144-49a...|c74c9d0f-f206-11e...|        NULL|0bcf2be1-3168-4e4...|b45854a7-e6e1-4a9...|         NULL|2015-11-20 00:00:00|\n",
      "+--------------------+--------------------+------------+--------------------+--------------------+-------------+-------------------+\n",
      "only showing top 5 rows\n",
      "\n"
     ]
    }
   ],
   "source": [
    "spark.table(\"bootcamp.matches_bucketed\").show(5)"
   ]
  },
  {
   "cell_type": "code",
   "execution_count": 23,
   "id": "805c7a2c-1e4e-4d66-862f-5ed27f928b4c",
   "metadata": {},
   "outputs": [
    {
     "data": {
      "text/plain": [
       "res15: org.apache.spark.sql.DataFrame = []\n"
      ]
     },
     "execution_count": 23,
     "metadata": {},
     "output_type": "execute_result"
    }
   ],
   "source": [
    "# spark.sql(\"DROP TABLE IF EXISTS bootcamp.matches_bucketed\")"
   ]
  },
  {
   "cell_type": "code",
   "execution_count": null,
   "id": "2388f7e0-cd93-4eac-8ee7-bd4f4a4f600e",
   "metadata": {},
   "outputs": [],
   "source": [
    "# matchesBucketed\n",
    "#   .select($\"match_id\", $\"mapid\", $\"is_team_game\", $\"playlist_id\", $\"game_variant_id\", $\"is_match_over\", $\"completion_date\")\n",
    "#   .write\n",
    "#   .mode(\"append\")\n",
    "#   .partitionBy(\"completion_date\")\n",
    "#   .bucketBy(16, \"match_id\").saveAsTable(\"bootcamp.matches_bucketed\")"
   ]
  },
  {
   "cell_type": "code",
   "execution_count": 26,
   "id": "788e125c-debe-4541-9d96-1895447f1385",
   "metadata": {},
   "outputs": [
    {
     "data": {
      "text/plain": [
       "res17: org.apache.spark.sql.DataFrame = [col_name: string, data_type: string ... 1 more field]\n"
      ]
     },
     "execution_count": 26,
     "metadata": {},
     "output_type": "execute_result"
    }
   ],
   "source": [
    "spark.sql(\"DESCRIBE TABLE EXTENDED bootcamp.matches_bucketed\")"
   ]
  },
  {
   "cell_type": "code",
   "execution_count": 27,
   "id": "69c41843-b90e-47c1-b7c0-c73901560941",
   "metadata": {},
   "outputs": [
    {
     "data": {
      "text/plain": [
       "res18: Long = 100\n"
      ]
     },
     "execution_count": 27,
     "metadata": {},
     "output_type": "execute_result"
    }
   ],
   "source": [
    "spark.table(\"bootcamp.matches_bucketed\").count()"
   ]
  },
  {
   "cell_type": "code",
   "execution_count": 28,
   "id": "55835475-cd80-4c0e-a4dd-444454370809",
   "metadata": {},
   "outputs": [
    {
     "name": "stdout",
     "output_type": "stream",
     "text": [
      "+--------------------+--------------------+------------+--------------------+--------------------+-------------+-------------------+\n",
      "|            match_id|               mapid|is_team_game|         playlist_id|     game_variant_id|is_match_over|    completion_date|\n",
      "+--------------------+--------------------+------------+--------------------+--------------------+-------------+-------------------+\n",
      "|5c4309f2-9150-4e1...|c74c9d0f-f206-11e...|        true|780cc101-005c-4fc...|b45854a7-e6e1-4a9...|         true|2016-01-17 00:00:00|\n",
      "|d33e5f70-f75a-4c4...|c74c9d0f-f206-11e...|        true|0bcf2be1-3168-4e4...|b45854a7-e6e1-4a9...|         true|2015-11-20 00:00:00|\n",
      "|b60ac716-e437-427...|c74c9d0f-f206-11e...|        true|780cc101-005c-4fc...|b45854a7-e6e1-4a9...|         true|2016-02-19 00:00:00|\n",
      "|5dbe750f-95c8-45d...|c7b7baf0-f206-11e...|        true|780cc101-005c-4fc...|b45854a7-e6e1-4a9...|         true|2016-02-19 00:00:00|\n",
      "|f9476ecb-2144-49a...|c74c9d0f-f206-11e...|        NULL|0bcf2be1-3168-4e4...|b45854a7-e6e1-4a9...|         NULL|2015-11-20 00:00:00|\n",
      "+--------------------+--------------------+------------+--------------------+--------------------+-------------+-------------------+\n",
      "only showing top 5 rows\n",
      "\n"
     ]
    }
   ],
   "source": [
    "spark.table(\"bootcamp.matches_bucketed\").show(5)"
   ]
  },
  {
   "cell_type": "code",
   "execution_count": null,
   "id": "edde534e-3169-4bff-9edf-6ff321a72d2a",
   "metadata": {},
   "outputs": [],
   "source": []
  },
  {
   "cell_type": "code",
   "execution_count": 29,
   "id": "323dae08-4de0-4296-90df-f82478dabdf0",
   "metadata": {},
   "outputs": [
    {
     "data": {
      "text/plain": [
       "res20: Long = 151761\n"
      ]
     },
     "execution_count": 29,
     "metadata": {},
     "output_type": "execute_result"
    }
   ],
   "source": [
    "matchDetailsBucketed.count()"
   ]
  },
  {
   "cell_type": "code",
   "execution_count": 25,
   "id": "c0fd4332-c874-4338-8633-940436e95baf",
   "metadata": {},
   "outputs": [],
   "source": [
    "# matchDetailsBucketed\n",
    "#   .limit(114)\n",
    "#   .select($\"match_id\", $\"player_gamertag\", $\"player_total_kills\", $\"player_total_deaths\", $\"player_total_assists\", $\"team_id\" /*, ...other cols*/)\n",
    "#   .write\n",
    "#   .mode(\"append\")\n",
    "#   .insertInto(\"bootcamp.match_details_bucketed\")"
   ]
  },
  {
   "cell_type": "code",
   "execution_count": 30,
   "id": "7eb19690-656f-4bc2-ba90-1d6597f7ce13",
   "metadata": {},
   "outputs": [
    {
     "data": {
      "text/plain": [
       "selectedMatchIds: Seq[String] = List(4740f30e-2e38-4cae-b858-3ea5a588bc84, 0a2e9cc8-b84c-46bb-a769-b49dd444a3f0, 6b4ffe69-a4c1-44b6-9f46-48cad1bd9a14, d9780cc1-b5fb-45d6-a194-f7806e769519, fcf70b21-3fdf-4957-af2e-21a171424bb3, 1de1abd4-e662-48a6-8c20-1716cfe7408c, 308a12a5-f1fa-4002-9088-f2dd0a140aab, e9f11daf-0be9-478d-aa27-452399d12258, 5ed62e3e-56b9-4ebf-8f0e-13707a644b52, 19f53054-cefc-42be-874c-4dbfea6b27b6, 41c411e0-7273-4954-bbf3-1720667f0f75, 2895a8b8-ffbd-49e8-8863-ffe0f319636d, 614f85c6-2846-4d2a-bbd6-21890465655f, afee7207-db02-437d-b805-df39374ad7be, aee287dc-d260-4c9b-ba11-c5ce0592ec13, a9317e5b-4aa5-40b0-a736-5e5417a2c980, d37847b8-92f2-48b6-8848-0ed2e9ee00cd, 123c93eb-522f-408c-9b2d-8c1012be9b3b, 59e9dc52-5065-402d-a41a-81bbc15a085a, a6af8f27-2f99-4746-aebf-cb86790b3d74)\n"
      ]
     },
     "execution_count": 30,
     "metadata": {},
     "output_type": "execute_result"
    }
   ],
   "source": [
    "val selectedMatchIds = Seq(\n",
    "  \"4740f30e-2e38-4cae-b858-3ea5a588bc84\",\n",
    "  \"0a2e9cc8-b84c-46bb-a769-b49dd444a3f0\",\n",
    "  \"6b4ffe69-a4c1-44b6-9f46-48cad1bd9a14\",\n",
    "  \"d9780cc1-b5fb-45d6-a194-f7806e769519\",\n",
    "  \"fcf70b21-3fdf-4957-af2e-21a171424bb3\",\n",
    "  \"1de1abd4-e662-48a6-8c20-1716cfe7408c\",\n",
    "  \"308a12a5-f1fa-4002-9088-f2dd0a140aab\",\n",
    "  \"e9f11daf-0be9-478d-aa27-452399d12258\",\n",
    "  \"5ed62e3e-56b9-4ebf-8f0e-13707a644b52\",\n",
    "  \"19f53054-cefc-42be-874c-4dbfea6b27b6\",\n",
    "  \"41c411e0-7273-4954-bbf3-1720667f0f75\",\n",
    "  \"2895a8b8-ffbd-49e8-8863-ffe0f319636d\",\n",
    "  \"614f85c6-2846-4d2a-bbd6-21890465655f\",\n",
    "  \"afee7207-db02-437d-b805-df39374ad7be\",\n",
    "  \"aee287dc-d260-4c9b-ba11-c5ce0592ec13\",\n",
    "  \"a9317e5b-4aa5-40b0-a736-5e5417a2c980\",\n",
    "  \"d37847b8-92f2-48b6-8848-0ed2e9ee00cd\",\n",
    "  \"123c93eb-522f-408c-9b2d-8c1012be9b3b\",\n",
    "  \"59e9dc52-5065-402d-a41a-81bbc15a085a\",\n",
    "  \"a6af8f27-2f99-4746-aebf-cb86790b3d74\"\n",
    ")\n"
   ]
  },
  {
   "cell_type": "code",
   "execution_count": 31,
   "id": "cdef1564-5438-41d7-be19-c00d3627fbfa",
   "metadata": {},
   "outputs": [
    {
     "data": {
      "text/plain": [
       "filteredMatchDetails: org.apache.spark.sql.DataFrame = [match_id: string, player_gamertag: string ... 4 more fields]\n"
      ]
     },
     "execution_count": 31,
     "metadata": {},
     "output_type": "execute_result"
    }
   ],
   "source": [
    "val filteredMatchDetails = matchDetailsBucketed\n",
    "  .filter($\"match_id\".isin(selectedMatchIds: _*))\n",
    "  .select(\n",
    "    $\"match_id\",\n",
    "    $\"player_gamertag\",\n",
    "    $\"player_total_kills\",\n",
    "    $\"player_total_deaths\",\n",
    "    $\"player_total_assists\",\n",
    "    $\"team_id\"\n",
    "  )\n"
   ]
  },
  {
   "cell_type": "code",
   "execution_count": 32,
   "id": "a49234ac-ca26-4069-8696-14de368978e4",
   "metadata": {},
   "outputs": [
    {
     "name": "stdout",
     "output_type": "stream",
     "text": [
      "Rows to load: 418\n",
      "Distinct match_ids in load: 20\n"
     ]
    }
   ],
   "source": [
    "println(s\"Rows to load: ${filteredMatchDetails.count()}\")\n",
    "println(s\"Distinct match_ids in load: ${filteredMatchDetails.select('match_id).distinct().count()}\")\n"
   ]
  },
  {
   "cell_type": "code",
   "execution_count": 33,
   "id": "1f40ab15-da0e-4a18-be53-70776457cc0d",
   "metadata": {},
   "outputs": [],
   "source": [
    "// Step 3 — Insert into Iceberg table\n",
    "filteredMatchDetails\n",
    "  .write\n",
    "  .mode(\"append\")\n",
    "  .insertInto(\"bootcamp.match_details_bucketed\")"
   ]
  },
  {
   "cell_type": "code",
   "execution_count": null,
   "id": "2c4ae9cd-d6b4-4932-93c7-afdc95fbf8b3",
   "metadata": {},
   "outputs": [],
   "source": []
  },
  {
   "cell_type": "code",
   "execution_count": null,
   "id": "510aabdf-11ab-4a2f-899e-5903b3e3650d",
   "metadata": {},
   "outputs": [],
   "source": []
  },
  {
   "cell_type": "code",
   "execution_count": 34,
   "id": "2999d048-8aa2-4673-baa4-5a5f94d0aab8",
   "metadata": {},
   "outputs": [
    {
     "data": {
      "text/plain": [
       "res23: Long = 418\n"
      ]
     },
     "execution_count": 34,
     "metadata": {},
     "output_type": "execute_result"
    }
   ],
   "source": [
    "spark.table(\"bootcamp.match_details_bucketed\").count()"
   ]
  },
  {
   "cell_type": "code",
   "execution_count": 35,
   "id": "d90e9d5d-37ee-4d05-a9dd-d4659667e20c",
   "metadata": {},
   "outputs": [
    {
     "name": "stdout",
     "output_type": "stream",
     "text": [
      "+--------------------+---------------+------------------+-------------------+--------------------+-------+\n",
      "|            match_id|player_gamertag|player_total_kills|player_total_deaths|player_total_assists|team_id|\n",
      "+--------------------+---------------+------------------+-------------------+--------------------+-------+\n",
      "|a6af8f27-2f99-474...|      Sevenface|                31|                 10|                  15|      1|\n",
      "|a6af8f27-2f99-474...|  Little Osorio|                 1|                  6|                   0|      0|\n",
      "|a6af8f27-2f99-474...|    Wonderboy92|                26|                 20|                   5|      0|\n",
      "|a6af8f27-2f99-474...|  Dogie Dog 101|                32|                 13|                   4|      1|\n",
      "|a6af8f27-2f99-474...|    Mario Chief|                 1|                  1|                   0|      1|\n",
      "+--------------------+---------------+------------------+-------------------+--------------------+-------+\n",
      "only showing top 5 rows\n",
      "\n"
     ]
    }
   ],
   "source": [
    "spark.table(\"bootcamp.match_details_bucketed\").show(5)"
   ]
  },
  {
   "cell_type": "code",
   "execution_count": 51,
   "id": "fcfd719f-5a23-467b-9a01-1a850e5ce957",
   "metadata": {
    "scrolled": true
   },
   "outputs": [
    {
     "ename": "<console>",
     "evalue": "2: error: ';' expected but '#' found.",
     "output_type": "error",
     "traceback": [
      "<console>:2: error: ';' expected but '#' found.",
      "       # spark.sql(\"SHOW PARTITIONS bootcamp.match_details_bucketed\").show(100, false)",
      "       ^",
      ""
     ]
    }
   ],
   "source": [
    "# spark.sql(\"SHOW PARTITIONS bootcamp.match_details_bucketed\").show(100, false)"
   ]
  },
  {
   "cell_type": "code",
   "execution_count": 36,
   "id": "ca375cbe-e1da-4a37-8401-be5e3ac283e1",
   "metadata": {},
   "outputs": [
    {
     "data": {
      "text/plain": [
       "res25: Long = 755229\n"
      ]
     },
     "execution_count": 36,
     "metadata": {},
     "output_type": "execute_result"
    }
   ],
   "source": [
    "medalsmatchesplayersBucketed.count()"
   ]
  },
  {
   "cell_type": "code",
   "execution_count": 29,
   "id": "01a2c95d-510d-47f6-ac92-f74d8cba60c4",
   "metadata": {},
   "outputs": [],
   "source": [
    "# medalsmatchesplayersBucketed\n",
    "#    .limit(126)\n",
    "#   .select($\"match_id\", $\"player_gamertag\", $\"medal_id\", $\"count\")\n",
    "#   .write\n",
    "#   .mode(\"append\")\n",
    "#   .insertInto(\"bootcamp.medals_matches_players_bucketed\")"
   ]
  },
  {
   "cell_type": "code",
   "execution_count": null,
   "id": "2d009689-b24e-416d-8f43-0a2ea0132f05",
   "metadata": {},
   "outputs": [],
   "source": []
  },
  {
   "cell_type": "code",
   "execution_count": 37,
   "id": "f5a6a3af-8962-44ba-a955-f3bf48a64ad8",
   "metadata": {},
   "outputs": [
    {
     "name": "stdout",
     "output_type": "stream",
     "text": [
      "Rows to load: 2801\n",
      "Distinct match_ids in load: 20\n"
     ]
    },
    {
     "data": {
      "text/plain": [
       "filteredMedalsMatchesPlayers: org.apache.spark.sql.DataFrame = [match_id: string, player_gamertag: string ... 2 more fields]\n"
      ]
     },
     "execution_count": 37,
     "metadata": {},
     "output_type": "execute_result"
    }
   ],
   "source": [
    "// Step 2 — filter medalsmatchesplayersBucketed to only those IDs\n",
    "val filteredMedalsMatchesPlayers = medalsmatchesplayersBucketed\n",
    "  .filter($\"match_id\".isin(selectedMatchIds: _*))\n",
    "  .select(\n",
    "    $\"match_id\",\n",
    "    $\"player_gamertag\",\n",
    "    $\"medal_id\",\n",
    "    $\"count\"\n",
    "  )\n",
    "\n",
    "println(s\"Rows to load: ${filteredMedalsMatchesPlayers.count()}\")\n",
    "println(s\"Distinct match_ids in load: ${filteredMedalsMatchesPlayers.select('match_id).distinct().count()}\")\n",
    "\n",
    "// Step 3 — write to Iceberg table\n",
    "filteredMedalsMatchesPlayers\n",
    "  .write\n",
    "  .mode(\"append\")\n",
    "  .insertInto(\"bootcamp.medals_matches_players_bucketed\")"
   ]
  },
  {
   "cell_type": "code",
   "execution_count": null,
   "id": "c4e59f7e-ca55-4140-a54f-162b6efe2573",
   "metadata": {},
   "outputs": [],
   "source": []
  },
  {
   "cell_type": "code",
   "execution_count": null,
   "id": "b9ce60c6-096b-4bfa-828b-a1bde3aeed98",
   "metadata": {},
   "outputs": [],
   "source": []
  },
  {
   "cell_type": "code",
   "execution_count": null,
   "id": "57a21c1e-a530-47d5-ace9-62fe250e0793",
   "metadata": {},
   "outputs": [],
   "source": []
  },
  {
   "cell_type": "code",
   "execution_count": 38,
   "id": "89bc3551-203b-4155-a2b7-040a8eee1d15",
   "metadata": {},
   "outputs": [
    {
     "data": {
      "text/plain": [
       "res27: Long = 2801\n"
      ]
     },
     "execution_count": 38,
     "metadata": {},
     "output_type": "execute_result"
    }
   ],
   "source": [
    "spark.table(\"bootcamp.medals_matches_players_bucketed\").count()"
   ]
  },
  {
   "cell_type": "code",
   "execution_count": 39,
   "id": "723cdba8-816c-4df5-a47a-2fd9cb566d9d",
   "metadata": {},
   "outputs": [
    {
     "name": "stdout",
     "output_type": "stream",
     "text": [
      "+--------------------+---------------+----------+-----+\n",
      "|            match_id|player_gamertag|  medal_id|count|\n",
      "+--------------------+---------------+----------+-----+\n",
      "|a9317e5b-4aa5-40b...|    ILLICIT 117|3261908037|    6|\n",
      "|a9317e5b-4aa5-40b...|    ILLICIT 117|1080468863|    1|\n",
      "|a9317e5b-4aa5-40b...|    ILLICIT 117|3400287617|    1|\n",
      "|a9317e5b-4aa5-40b...|    ILLICIT 117|1219497744|    2|\n",
      "|a9317e5b-4aa5-40b...|    ILLICIT 117|2287626681|    1|\n",
      "+--------------------+---------------+----------+-----+\n",
      "only showing top 5 rows\n",
      "\n"
     ]
    }
   ],
   "source": [
    "spark.table(\"bootcamp.medals_matches_players_bucketed\").show(5)"
   ]
  },
  {
   "cell_type": "code",
   "execution_count": 40,
   "id": "5b952f80-ba95-44d3-b2e0-9540bd80b2c1",
   "metadata": {
    "scrolled": true
   },
   "outputs": [
    {
     "ename": "org.apache.spark.sql.catalyst.ExtendedAnalysisException",
     "evalue": " [INVALID_PARTITION_OPERATION.PARTITION_MANAGEMENT_IS_UNSUPPORTED] The partition command is invalid. Table `demo`.`bootcamp`.`medals_matches_players_bucketed` does not support partition management.; line 1 pos 16;",
     "output_type": "error",
     "traceback": [
      "org.apache.spark.sql.catalyst.ExtendedAnalysisException: [INVALID_PARTITION_OPERATION.PARTITION_MANAGEMENT_IS_UNSUPPORTED] The partition command is invalid. Table `demo`.`bootcamp`.`medals_matches_players_bucketed` does not support partition management.; line 1 pos 16;",
      "ShowPartitions [partition#994]",
      "+- ResolvedTable org.apache.iceberg.spark.SparkCatalog@44a75cb5, bootcamp.medals_matches_players_bucketed, demo.bootcamp.medals_matches_players_bucketed, [match_id#995, player_gamertag#996, medal_id#997L, count#998]",
      "",
      "  at org.apache.spark.sql.catalyst.analysis.package$AnalysisErrorAt.failAnalysis(package.scala:52)",
      "  at org.apache.spark.sql.catalyst.analysis.CheckAnalysis.$anonfun$checkAnalysis0$2(CheckAnalysis.scala:262)",
      "  at org.apache.spark.sql.catalyst.analysis.CheckAnalysis.$anonfun$checkAnalysis0$2$adapted(CheckAnalysis.scala:215)",
      "  at org.apache.spark.sql.catalyst.trees.TreeNode.foreachUp(TreeNode.scala:244)",
      "  at org.apache.spark.sql.catalyst.analysis.CheckAnalysis.checkAnalysis0(CheckAnalysis.scala:215)",
      "  at org.apache.spark.sql.catalyst.analysis.CheckAnalysis.checkAnalysis0$(CheckAnalysis.scala:197)",
      "  at org.apache.spark.sql.catalyst.analysis.Analyzer.checkAnalysis0(Analyzer.scala:202)",
      "  at org.apache.spark.sql.catalyst.analysis.CheckAnalysis.checkAnalysis(CheckAnalysis.scala:193)",
      "  at org.apache.spark.sql.catalyst.analysis.CheckAnalysis.checkAnalysis$(CheckAnalysis.scala:171)",
      "  at org.apache.spark.sql.catalyst.analysis.Analyzer.checkAnalysis(Analyzer.scala:202)",
      "  at org.apache.spark.sql.catalyst.analysis.Analyzer.$anonfun$executeAndCheck$1(Analyzer.scala:225)",
      "  at org.apache.spark.sql.catalyst.plans.logical.AnalysisHelper$.markInAnalyzer(AnalysisHelper.scala:330)",
      "  at org.apache.spark.sql.catalyst.analysis.Analyzer.executeAndCheck(Analyzer.scala:222)",
      "  at org.apache.spark.sql.execution.QueryExecution.$anonfun$analyzed$1(QueryExecution.scala:77)",
      "  at org.apache.spark.sql.catalyst.QueryPlanningTracker.measurePhase(QueryPlanningTracker.scala:138)",
      "  at org.apache.spark.sql.execution.QueryExecution.$anonfun$executePhase$2(QueryExecution.scala:219)",
      "  at org.apache.spark.sql.execution.QueryExecution$.withInternalError(QueryExecution.scala:546)",
      "  at org.apache.spark.sql.execution.QueryExecution.$anonfun$executePhase$1(QueryExecution.scala:219)",
      "  at org.apache.spark.sql.SparkSession.withActive(SparkSession.scala:900)",
      "  at org.apache.spark.sql.execution.QueryExecution.executePhase(QueryExecution.scala:218)",
      "  at org.apache.spark.sql.execution.QueryExecution.analyzed$lzycompute(QueryExecution.scala:77)",
      "  at org.apache.spark.sql.execution.QueryExecution.analyzed(QueryExecution.scala:74)",
      "  at org.apache.spark.sql.execution.QueryExecution.assertAnalyzed(QueryExecution.scala:66)",
      "  at org.apache.spark.sql.Dataset$.$anonfun$ofRows$2(Dataset.scala:99)",
      "  at org.apache.spark.sql.SparkSession.withActive(SparkSession.scala:900)",
      "  at org.apache.spark.sql.Dataset$.ofRows(Dataset.scala:97)",
      "  at org.apache.spark.sql.SparkSession.$anonfun$sql$4(SparkSession.scala:691)",
      "  at org.apache.spark.sql.SparkSession.withActive(SparkSession.scala:900)",
      "  at org.apache.spark.sql.SparkSession.sql(SparkSession.scala:682)",
      "  at org.apache.spark.sql.SparkSession.sql(SparkSession.scala:713)",
      "  at org.apache.spark.sql.SparkSession.sql(SparkSession.scala:744)",
      "  ... 45 elided",
      ""
     ]
    }
   ],
   "source": [
    "spark.sql(\"SHOW PARTITIONS bootcamp.medals_matches_players_bucketed\").show(100, false)"
   ]
  },
  {
   "cell_type": "code",
   "execution_count": null,
   "id": "266a015d-2310-46fe-9063-1dbf1872ace9",
   "metadata": {},
   "outputs": [],
   "source": [
    "# Analytical Aggregations with Joins\n",
    "# First, read the bucketed tables into DataFrames:"
   ]
  },
  {
   "cell_type": "code",
   "execution_count": 41,
   "id": "d5628874-ead5-4b9b-8bd0-8ffaa305ff5f",
   "metadata": {},
   "outputs": [
    {
     "data": {
      "text/plain": [
       "matchesDF: org.apache.spark.sql.DataFrame = [match_id: string, mapid: string ... 5 more fields]\n",
       "matchDetailsDF: org.apache.spark.sql.DataFrame = [match_id: string, player_gamertag: string ... 4 more fields]\n",
       "medalsMatchesPlayersDF: org.apache.spark.sql.DataFrame = [match_id: string, player_gamertag: string ... 2 more fields]\n"
      ]
     },
     "execution_count": 41,
     "metadata": {},
     "output_type": "execute_result"
    }
   ],
   "source": [
    "val matchesDF = spark.table(\"bootcamp.matches_bucketed\")\n",
    "val matchDetailsDF = spark.table(\"bootcamp.match_details_bucketed\")\n",
    "val medalsMatchesPlayersDF = spark.table(\"bootcamp.medals_matches_players_bucketed\")"
   ]
  },
  {
   "cell_type": "code",
   "execution_count": 42,
   "id": "7787dbec-60d3-479f-9173-c7a054eaefbd",
   "metadata": {},
   "outputs": [
    {
     "data": {
      "text/plain": [
       "joinedDF: org.apache.spark.sql.DataFrame = [match_id: string, player_gamertag: string ... 12 more fields]\n"
      ]
     },
     "execution_count": 42,
     "metadata": {},
     "output_type": "execute_result"
    }
   ],
   "source": [
    "// Join all three tables on match_id (bucket join)\n",
    "val joinedDF = matchDetailsDF\n",
    "  .join(matchesDF, Seq(\"match_id\"), \"inner\")\n",
    "  .join(medalsMatchesPlayersDF, Seq(\"match_id\", \"player_gamertag\"), \"left\")"
   ]
  },
  {
   "cell_type": "code",
   "execution_count": 43,
   "id": "b3523b17-926b-405a-8f88-819907f0079b",
   "metadata": {},
   "outputs": [
    {
     "data": {
      "text/plain": [
       "res30: Long = 2856\n"
      ]
     },
     "execution_count": 43,
     "metadata": {},
     "output_type": "execute_result"
    }
   ],
   "source": [
    "joinedDF.count()"
   ]
  },
  {
   "cell_type": "code",
   "execution_count": 44,
   "id": "8ec14277-a9d4-496c-bee0-cba9912c1818",
   "metadata": {},
   "outputs": [
    {
     "name": "stdout",
     "output_type": "stream",
     "text": [
      "root\n",
      " |-- match_id: string (nullable = true)\n",
      " |-- player_gamertag: string (nullable = true)\n",
      " |-- player_total_kills: integer (nullable = true)\n",
      " |-- player_total_deaths: integer (nullable = true)\n",
      " |-- player_total_assists: integer (nullable = true)\n",
      " |-- team_id: integer (nullable = true)\n",
      " |-- mapid: string (nullable = true)\n",
      " |-- is_team_game: boolean (nullable = true)\n",
      " |-- playlist_id: string (nullable = true)\n",
      " |-- game_variant_id: string (nullable = true)\n",
      " |-- is_match_over: boolean (nullable = true)\n",
      " |-- completion_date: timestamp (nullable = true)\n",
      " |-- medal_id: long (nullable = true)\n",
      " |-- count: integer (nullable = true)\n",
      "\n"
     ]
    }
   ],
   "source": [
    "joinedDF.printSchema()"
   ]
  },
  {
   "cell_type": "code",
   "execution_count": 45,
   "id": "8b5f0428-3165-499a-a8c4-967f9ebe01b2",
   "metadata": {},
   "outputs": [
    {
     "name": "stdout",
     "output_type": "stream",
     "text": [
      "+---------------+------------------+------------+\n",
      "|player_gamertag|avg_kills_per_game|games_played|\n",
      "+---------------+------------------+------------+\n",
      "|Babtou SeGpa   |42.0              |1           |\n",
      "|Deceit         |39.0              |1           |\n",
      "|NILLOC 916     |35.0              |1           |\n",
      "|EquallyStupid  |34.0              |1           |\n",
      "|Hatter Matigan |34.0              |1           |\n",
      "|BooneYO        |34.0              |1           |\n",
      "|Starkey Xx     |33.0              |1           |\n",
      "|hreskofreight4 |33.0              |1           |\n",
      "|Hydrix         |32.0              |1           |\n",
      "|Eh Snipe       |32.0              |1           |\n",
      "|Dogie Dog 101  |32.0              |1           |\n",
      "|Statvr         |32.0              |1           |\n",
      "|Own U          |32.0              |1           |\n",
      "|Sevenface      |31.0              |1           |\n",
      "|sitbird        |30.0              |1           |\n",
      "|Boricpapergod  |28.0              |1           |\n",
      "|TRANZ4M3R      |28.0              |1           |\n",
      "|Poisoned Mango |26.0              |1           |\n",
      "|Bloody Masher  |26.0              |1           |\n",
      "|Wonderboy92    |26.0              |1           |\n",
      "+---------------+------------------+------------+\n",
      "only showing top 20 rows\n",
      "\n"
     ]
    },
    {
     "data": {
      "text/plain": [
       "playerAvgKills: org.apache.spark.sql.Dataset[org.apache.spark.sql.Row] = [player_gamertag: string, avg_kills_per_game: double ... 1 more field]\n"
      ]
     },
     "execution_count": 45,
     "metadata": {},
     "output_type": "execute_result"
    }
   ],
   "source": [
    "// Which player averages the most kills per game?\n",
    "val playerAvgKills =\n",
    "  joinedDF\n",
    "    .groupBy($\"player_gamertag\")\n",
    "    .agg(\n",
    "      avg($\"player_total_kills\").as(\"avg_kills_per_game\"),\n",
    "      countDistinct($\"match_id\").as(\"games_played\")\n",
    "    )\n",
    "    .orderBy(desc(\"avg_kills_per_game\"))\n",
    "\n",
    "playerAvgKills.show(20, truncate = false)"
   ]
  },
  {
   "cell_type": "code",
   "execution_count": 46,
   "id": "d24710d4-ef1d-4e06-911e-77e696e9742e",
   "metadata": {},
   "outputs": [
    {
     "name": "stdout",
     "output_type": "stream",
     "text": [
      "+------------------------------------+-----------+\n",
      "|playlist_id                         |num_matches|\n",
      "+------------------------------------+-----------+\n",
      "|780cc101-005c-4fca-8ce7-6f36d7156ffe|20         |\n",
      "+------------------------------------+-----------+\n",
      "\n"
     ]
    },
    {
     "data": {
      "text/plain": [
       "mostPlayedPlaylist: org.apache.spark.sql.Dataset[org.apache.spark.sql.Row] = [playlist_id: string, num_matches: bigint]\n"
      ]
     },
     "execution_count": 46,
     "metadata": {},
     "output_type": "execute_result"
    }
   ],
   "source": [
    "//Q2) Which playlist gets played the most?\n",
    "val mostPlayedPlaylist =\n",
    "  joinedDF\n",
    "    .select($\"playlist_id\", $\"match_id\")\n",
    "    .distinct()                         // avoid counting players as extra matches\n",
    "    .groupBy($\"playlist_id\")\n",
    "    .agg(count($\"match_id\").as(\"num_matches\"))\n",
    "    .orderBy(desc(\"num_matches\"))\n",
    "\n",
    "mostPlayedPlaylist.show(20, truncate = false)"
   ]
  },
  {
   "cell_type": "code",
   "execution_count": 47,
   "id": "468b8146-dee4-44aa-89fc-f437c958daf8",
   "metadata": {},
   "outputs": [
    {
     "name": "stdout",
     "output_type": "stream",
     "text": [
      "+------------------------------------+-----------+\n",
      "|mapid                               |num_matches|\n",
      "+------------------------------------+-----------+\n",
      "|c7805740-f206-11e4-982c-24be05e24f7e|11         |\n",
      "|c74c9d0f-f206-11e4-8330-24be05e24f7e|7          |\n",
      "|c7b7baf0-f206-11e4-ae9a-24be05e24f7e|2          |\n",
      "+------------------------------------+-----------+\n",
      "\n"
     ]
    },
    {
     "data": {
      "text/plain": [
       "mostPlayedMap: org.apache.spark.sql.Dataset[org.apache.spark.sql.Row] = [mapid: string, num_matches: bigint]\n"
      ]
     },
     "execution_count": 47,
     "metadata": {},
     "output_type": "execute_result"
    }
   ],
   "source": [
    "//Q3) Which map gets played the most?\n",
    "val mostPlayedMap =\n",
    "  joinedDF\n",
    "    .select($\"mapid\", $\"match_id\")\n",
    "    .distinct()\n",
    "    .groupBy($\"mapid\")\n",
    "    .agg(count($\"match_id\").as(\"num_matches\"))\n",
    "    .orderBy(desc(\"num_matches\"))\n",
    "\n",
    "mostPlayedMap.show(20, truncate = false)"
   ]
  },
  {
   "cell_type": "code",
   "execution_count": 48,
   "id": "6f69f3b6-0212-4c8a-b729-39f33a6445f5",
   "metadata": {},
   "outputs": [
    {
     "name": "stdout",
     "output_type": "stream",
     "text": [
      "+------------------------------------+--------------------+\n",
      "|mapid                               |total_killing_sprees|\n",
      "+------------------------------------+--------------------+\n",
      "|c7805740-f206-11e4-982c-24be05e24f7e|87                  |\n",
      "|c74c9d0f-f206-11e4-8330-24be05e24f7e|58                  |\n",
      "|c7b7baf0-f206-11e4-ae9a-24be05e24f7e|21                  |\n",
      "+------------------------------------+--------------------+\n",
      "\n",
      "+------------------------------------+--------+--------------------+\n",
      "|mapid                               |name    |total_killing_sprees|\n",
      "+------------------------------------+--------+--------------------+\n",
      "|c7805740-f206-11e4-982c-24be05e24f7e|Glacier |87                  |\n",
      "|c74c9d0f-f206-11e4-8330-24be05e24f7e|Alpine  |58                  |\n",
      "|c7b7baf0-f206-11e4-ae9a-24be05e24f7e|Parallax|21                  |\n",
      "+------------------------------------+--------+--------------------+\n",
      "\n"
     ]
    },
    {
     "data": {
      "text/plain": [
       "killingSpreeId: Long = 2430242797\n",
       "killingSpreeByMap: org.apache.spark.sql.Dataset[org.apache.spark.sql.Row] = [mapid: string, total_killing_sprees: bigint]\n",
       "killingSpreeByMapNamed: org.apache.spark.sql.Dataset[org.apache.spark.sql.Row] = [mapid: string, name: string ... 1 more field]\n"
      ]
     },
     "execution_count": 48,
     "metadata": {},
     "output_type": "execute_result"
    }
   ],
   "source": [
    "//Q4) Which map do players get the most Killing Spree medals on?\n",
    "//here we lookup the medal_id for “Killing Spree” from your medals table, then filter and aggregate.\n",
    "// 1) find the medal_id for \"Killing Spree\"\n",
    "val killingSpreeId: Long =\n",
    "  medalsBucketed.filter(lower($\"name\") === \"killing spree\")\n",
    "    .select($\"medal_id\")\n",
    "    .as[Long]\n",
    "    .head()\n",
    "\n",
    "// 2) filter joinedDF to that medal and aggregate per map\n",
    "val killingSpreeByMap =\n",
    "  joinedDF\n",
    "    .filter($\"medal_id\" === killingSpreeId)\n",
    "    .groupBy($\"mapid\")\n",
    "    .agg(sum($\"count\").as(\"total_killing_sprees\"))\n",
    "    .orderBy(desc(\"total_killing_sprees\"))\n",
    "\n",
    "killingSpreeByMap.show(20, truncate = false)\n",
    "\n",
    "// (optional) add map name\n",
    "val killingSpreeByMapNamed =\n",
    "  killingSpreeByMap\n",
    "    .join(broadcast(mapsBucketed.select($\"mapid\", $\"name\")), Seq(\"mapid\"), \"left\")\n",
    "    .select($\"mapid\", $\"name\", $\"total_killing_sprees\")\n",
    "    .orderBy(desc(\"total_killing_sprees\"))\n",
    "\n",
    "killingSpreeByMapNamed.show(20, truncate = false)"
   ]
  },
  {
   "cell_type": "code",
   "execution_count": 49,
   "id": "0ad57ba4-e5b0-4791-9cea-0fc0f99c1e58",
   "metadata": {},
   "outputs": [
    {
     "data": {
      "text/plain": [
       "import org.apache.hadoop.fs.{FileSystem, Path}\n",
       "import org.apache.hadoop.conf.Configuration\n",
       "writeAndSize: (dfName: String, df: org.apache.spark.sql.DataFrame, path: String)Long\n"
      ]
     },
     "execution_count": 49,
     "metadata": {},
     "output_type": "execute_result"
    }
   ],
   "source": [
    "//Step 5: Try different .sortWithinPartitions and compare file sizes\n",
    "//We’ll write the same aggregated dataset out with different sorts and compare total bytes on disk. \n",
    "//Since playlists/maps are low cardinality, sorting by them can improve compression.\n",
    "import org.apache.hadoop.fs.{FileSystem, Path}\n",
    "import org.apache.hadoop.conf.Configuration\n",
    "\n",
    "def writeAndSize(dfName: String, df: org.apache.spark.sql.DataFrame, path: String): Long = {\n",
    "  df.write.mode(\"overwrite\").parquet(path)\n",
    "  val fs = FileSystem.get(new Configuration())\n",
    "  val statuses = fs.listStatus(new Path(path))\n",
    "  val total = statuses.filter(s => s.isFile && s.getPath.getName.endsWith(\".parquet\")).map(_.getLen).sum\n",
    "  println(f\"$dfName wrote ${(total/1024.0/1024.0)}%.2f MB to $path\")\n",
    "  total\n",
    "}"
   ]
  },
  {
   "cell_type": "code",
   "execution_count": 51,
   "id": "88e3a2a4-ae84-4a05-aa3a-830185fde7a1",
   "metadata": {},
   "outputs": [
    {
     "data": {
      "text/plain": [
       "baseAgg: org.apache.spark.sql.Dataset[org.apache.spark.sql.Row] = [player_gamertag: string, avg_kills_per_game: double ... 1 more field]\n"
      ]
     },
     "execution_count": 51,
     "metadata": {},
     "output_type": "execute_result"
    }
   ],
   "source": [
    "//Choose an “aggregated dataset” to test (e.g., player averages)\n",
    "//scala\n",
    "val baseAgg = playerAvgKills // any aggregated DF you want to compare"
   ]
  },
  {
   "cell_type": "code",
   "execution_count": 52,
   "id": "1b67f388-ef76-4b03-8bb1-19ea6dd66ae1",
   "metadata": {},
   "outputs": [
    {
     "name": "stdout",
     "output_type": "stream",
     "text": [
      "no sort wrote 0.01 MB to /tmp/agg_nosort\n",
      "sortWithinPartitions(playlist_id) wrote 0.01 MB to /tmp/agg_sort_playlist\n",
      "sortWithinPartitions(mapid) wrote 0.01 MB to /tmp/agg_sort_map\n"
     ]
    },
    {
     "data": {
      "text/plain": [
       "outBase: String = /tmp/agg_nosort\n",
       "outByPlaylist: String = /tmp/agg_sort_playlist\n",
       "outByMap: String = /tmp/agg_sort_map\n",
       "outByBoth: String = /tmp/agg_sort_both\n",
       "szNoSort: Long = 6995\n",
       "szPlaylist: Long = 7084\n",
       "szMap: Long = 7084\n"
      ]
     },
     "execution_count": 52,
     "metadata": {},
     "output_type": "execute_result"
    }
   ],
   "source": [
    "//Compare no sort vs sorts\n",
    "\n",
    "val outBase = \"/tmp/agg_nosort\"\n",
    "val outByPlaylist = \"/tmp/agg_sort_playlist\"\n",
    "val outByMap = \"/tmp/agg_sort_map\"\n",
    "val outByBoth = \"/tmp/agg_sort_both\"\n",
    "\n",
    "val szNoSort   = writeAndSize(\"no sort\", baseAgg, outBase)\n",
    "val szPlaylist = writeAndSize(\"sortWithinPartitions(playlist_id)\", \n",
    "  baseAgg.sortWithinPartitions($\"player_gamertag\"), // if baseAgg doesn’t have playlist_id/mapid, pick the low-card columns in *that* DF\n",
    "  outByPlaylist\n",
    ")\n",
    "\n",
    "val szMap = writeAndSize(\"sortWithinPartitions(mapid)\",\n",
    "  baseAgg.sortWithinPartitions($\"player_gamertag\"), // adjust column choice to something low-cardinality present in baseAgg\n",
    "  outByMap\n",
    ")\n",
    "\n",
    "// Example if your aggregated DF includes both columns; if not, try this on `mostPlayedMapNamed` or build a DF that has both\n",
    "// val szBoth = writeAndSize(\"sortWithinPartitions(playlist_id,mapid)\",\n",
    "//   someDF.sortWithinPartitions($\"playlist_id\", $\"mapid\"),\n",
    "//   outByBoth\n",
    "// )"
   ]
  },
  {
   "cell_type": "code",
   "execution_count": null,
   "id": "d1b105ce-7440-4665-9b25-c4f298b4204b",
   "metadata": {},
   "outputs": [],
   "source": []
  }
 ],
 "metadata": {
  "kernelspec": {
   "display_name": "spylon-kernel",
   "language": "scala",
   "name": "spylon-kernel"
  },
  "language_info": {
   "codemirror_mode": "text/x-scala",
   "file_extension": ".scala",
   "help_links": [
    {
     "text": "MetaKernel Magics",
     "url": "https://metakernel.readthedocs.io/en/latest/source/README.html"
    }
   ],
   "mimetype": "text/x-scala",
   "name": "scala",
   "pygments_lexer": "scala",
   "version": "0.4.1"
  }
 },
 "nbformat": 4,
 "nbformat_minor": 5
}
