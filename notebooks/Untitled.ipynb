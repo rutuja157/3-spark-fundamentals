{
 "cells": [
  {
   "cell_type": "code",
   "execution_count": 2,
   "id": "bfe23e38-8f64-47ce-9fa2-94a3d3fd2df8",
   "metadata": {},
   "outputs": [
    {
     "data": {
      "text/plain": [
       "import org.apache.spark.sql.functions.{broadcast, split, lit}\n"
      ]
     },
     "execution_count": 2,
     "metadata": {},
     "output_type": "execute_result"
    }
   ],
   "source": [
    "import org.apache.spark.sql.functions.{broadcast, split, lit}"
   ]
  },
  {
   "cell_type": "code",
   "execution_count": 3,
   "id": "87a0eb64-441a-448d-97f9-107d45c7c066",
   "metadata": {},
   "outputs": [
    {
     "data": {
      "text/plain": [
       "matchesBucketed: org.apache.spark.sql.DataFrame = [match_id: string, mapid: string ... 8 more fields]\n",
       "matchDetailsBucketed: org.apache.spark.sql.DataFrame = [match_id: string, player_gamertag: string ... 34 more fields]\n"
      ]
     },
     "execution_count": 3,
     "metadata": {},
     "output_type": "execute_result"
    }
   ],
   "source": [
    "val matchesBucketed = spark.read.option(\"header\", \"true\")\n",
    "                        .option(\"inferSchema\", \"true\")\n",
    "                        .csv(\"/home/iceberg/data/matches.csv\")\n",
    "val matchDetailsBucketed =  spark.read.option(\"header\", \"true\")\n",
    "                        .option(\"inferSchema\", \"true\")\n",
    "                        .csv(\"/home/iceberg/data/match_details.csv\")"
   ]
  },
  {
   "cell_type": "code",
   "execution_count": 4,
   "id": "41572963-7ca5-4acb-9574-e5600900cff3",
   "metadata": {},
   "outputs": [
    {
     "data": {
      "text/plain": [
       "medalsmatchesplayersBucketed: org.apache.spark.sql.DataFrame = [match_id: string, player_gamertag: string ... 2 more fields]\n",
       "medalsBucketed: org.apache.spark.sql.DataFrame = [medal_id: bigint, sprite_uri: string ... 10 more fields]\n"
      ]
     },
     "execution_count": 4,
     "metadata": {},
     "output_type": "execute_result"
    }
   ],
   "source": [
    "val medalsmatchesplayersBucketed = spark.read.option(\"header\", \"true\")\n",
    "                        .option(\"inferSchema\", \"true\")\n",
    "                        .csv(\"/home/iceberg/data/medals_matches_players.csv\")\n",
    "val medalsBucketed =  spark.read.option(\"header\", \"true\")\n",
    "                        .option(\"inferSchema\", \"true\")\n",
    "                        .csv(\"/home/iceberg/data/medals.csv\")"
   ]
  },
  {
   "cell_type": "code",
   "execution_count": 5,
   "id": "fb1cbc60-0d01-496a-b559-365230bb2dae",
   "metadata": {},
   "outputs": [
    {
     "name": "stdout",
     "output_type": "stream",
     "text": [
      "root\n",
      " |-- match_id: string (nullable = true)\n",
      " |-- mapid: string (nullable = true)\n",
      " |-- is_team_game: boolean (nullable = true)\n",
      " |-- playlist_id: string (nullable = true)\n",
      " |-- game_variant_id: string (nullable = true)\n",
      " |-- is_match_over: boolean (nullable = true)\n",
      " |-- completion_date: timestamp (nullable = true)\n",
      " |-- match_duration: string (nullable = true)\n",
      " |-- game_mode: string (nullable = true)\n",
      " |-- map_variant_id: string (nullable = true)\n",
      "\n",
      "root\n",
      " |-- match_id: string (nullable = true)\n",
      " |-- player_gamertag: string (nullable = true)\n",
      " |-- previous_spartan_rank: integer (nullable = true)\n",
      " |-- spartan_rank: integer (nullable = true)\n",
      " |-- previous_total_xp: integer (nullable = true)\n",
      " |-- total_xp: integer (nullable = true)\n",
      " |-- previous_csr_tier: integer (nullable = true)\n",
      " |-- previous_csr_designation: integer (nullable = true)\n",
      " |-- previous_csr: integer (nullable = true)\n",
      " |-- previous_csr_percent_to_next_tier: integer (nullable = true)\n",
      " |-- previous_csr_rank: integer (nullable = true)\n",
      " |-- current_csr_tier: integer (nullable = true)\n",
      " |-- current_csr_designation: integer (nullable = true)\n",
      " |-- current_csr: integer (nullable = true)\n",
      " |-- current_csr_percent_to_next_tier: integer (nullable = true)\n",
      " |-- current_csr_rank: integer (nullable = true)\n",
      " |-- player_rank_on_team: integer (nullable = true)\n",
      " |-- player_finished: boolean (nullable = true)\n",
      " |-- player_average_life: string (nullable = true)\n",
      " |-- player_total_kills: integer (nullable = true)\n",
      " |-- player_total_headshots: integer (nullable = true)\n",
      " |-- player_total_weapon_damage: double (nullable = true)\n",
      " |-- player_total_shots_landed: integer (nullable = true)\n",
      " |-- player_total_melee_kills: integer (nullable = true)\n",
      " |-- player_total_melee_damage: double (nullable = true)\n",
      " |-- player_total_assassinations: integer (nullable = true)\n",
      " |-- player_total_ground_pound_kills: integer (nullable = true)\n",
      " |-- player_total_shoulder_bash_kills: integer (nullable = true)\n",
      " |-- player_total_grenade_damage: double (nullable = true)\n",
      " |-- player_total_power_weapon_damage: double (nullable = true)\n",
      " |-- player_total_power_weapon_grabs: integer (nullable = true)\n",
      " |-- player_total_deaths: integer (nullable = true)\n",
      " |-- player_total_assists: integer (nullable = true)\n",
      " |-- player_total_grenade_kills: integer (nullable = true)\n",
      " |-- did_win: integer (nullable = true)\n",
      " |-- team_id: integer (nullable = true)\n",
      "\n"
     ]
    }
   ],
   "source": [
    "matchesBucketed.printSchema()        // See columns and data types\n",
    "matchDetailsBucketed.printSchema()"
   ]
  },
  {
   "cell_type": "code",
   "execution_count": 6,
   "id": "ab07696c-5553-415a-a099-a08c6be56930",
   "metadata": {},
   "outputs": [
    {
     "name": "stdout",
     "output_type": "stream",
     "text": [
      "root\n",
      " |-- match_id: string (nullable = true)\n",
      " |-- player_gamertag: string (nullable = true)\n",
      " |-- medal_id: long (nullable = true)\n",
      " |-- count: integer (nullable = true)\n",
      "\n",
      "root\n",
      " |-- medal_id: long (nullable = true)\n",
      " |-- sprite_uri: string (nullable = true)\n",
      " |-- sprite_left: integer (nullable = true)\n",
      " |-- sprite_top: integer (nullable = true)\n",
      " |-- sprite_sheet_width: integer (nullable = true)\n",
      " |-- sprite_sheet_height: integer (nullable = true)\n",
      " |-- sprite_width: integer (nullable = true)\n",
      " |-- sprite_height: integer (nullable = true)\n",
      " |-- classification: string (nullable = true)\n",
      " |-- description: string (nullable = true)\n",
      " |-- name: string (nullable = true)\n",
      " |-- difficulty: integer (nullable = true)\n",
      "\n"
     ]
    }
   ],
   "source": [
    "medalsmatchesplayersBucketed.printSchema()        // See columns and data types\n",
    "medalsBucketed.printSchema()"
   ]
  },
  {
   "cell_type": "code",
   "execution_count": 7,
   "id": "de0db58d-f280-443b-a582-949cf0545ddf",
   "metadata": {},
   "outputs": [],
   "source": [
    "spark.conf.set(\"spark.sql.autoBroadcastJoinThreshold\", -1)"
   ]
  },
  {
   "cell_type": "code",
   "execution_count": 8,
   "id": "f9bdeb7d-97e6-4871-b636-0c28d5c06151",
   "metadata": {},
   "outputs": [
    {
     "data": {
      "text/plain": [
       "mapsBucketed: org.apache.spark.sql.DataFrame = [mapid: string, name: string ... 1 more field]\n"
      ]
     },
     "execution_count": 8,
     "metadata": {},
     "output_type": "execute_result"
    }
   ],
   "source": [
    "val mapsBucketed =  spark.read.option(\"header\", \"true\")\n",
    "                        .option(\"inferSchema\", \"true\")\n",
    "                        .csv(\"/home/iceberg/data/maps.csv\")"
   ]
  },
  {
   "cell_type": "code",
   "execution_count": 9,
   "id": "5b35ad5f-5055-4cbe-bf48-965be11bce1b",
   "metadata": {},
   "outputs": [
    {
     "name": "stdout",
     "output_type": "stream",
     "text": [
      "root\n",
      " |-- mapid: string (nullable = true)\n",
      " |-- name: string (nullable = true)\n",
      " |-- description: string (nullable = true)\n",
      "\n"
     ]
    }
   ],
   "source": [
    "mapsBucketed.printSchema()"
   ]
  },
  {
   "cell_type": "code",
   "execution_count": null,
   "id": "db4c0cd9-2457-4fa6-91a2-a198ae0039df",
   "metadata": {},
   "outputs": [],
   "source": [
    "# These tables are small (few rows, used for lookup).\n",
    "# Broadcasting avoids shuffling big tables and makes joins efficient—but only for these, since we disabled auto-broadcast globally."
   ]
  },
  {
   "cell_type": "code",
   "execution_count": 10,
   "id": "5c689c19-e038-472b-a5e7-239c0dab2346",
   "metadata": {},
   "outputs": [
    {
     "data": {
      "text/plain": [
       "medalsBroadcasted: org.apache.spark.sql.Dataset[org.apache.spark.sql.Row] = [medal_id: bigint, sprite_uri: string ... 10 more fields]\n",
       "mapsBroadcasted: org.apache.spark.sql.Dataset[org.apache.spark.sql.Row] = [mapid: string, name: string ... 1 more field]\n"
      ]
     },
     "execution_count": 10,
     "metadata": {},
     "output_type": "execute_result"
    }
   ],
   "source": [
    "val medalsBroadcasted = broadcast(medalsBucketed)\n",
    "val mapsBroadcasted = broadcast(mapsBucketed)"
   ]
  },
  {
   "cell_type": "code",
   "execution_count": 11,
   "id": "9b39baad-e716-4e3f-ac9a-12658dc64422",
   "metadata": {},
   "outputs": [
    {
     "data": {
      "text/plain": [
       "medalDetails: org.apache.spark.sql.DataFrame = [medal_id: bigint, match_id: string ... 13 more fields]\n"
      ]
     },
     "execution_count": 11,
     "metadata": {},
     "output_type": "execute_result"
    }
   ],
   "source": [
    "val medalDetails = medalsmatchesplayersBucketed\n",
    "  .join(medalsBroadcasted, Seq(\"medal_id\"), \"left\")"
   ]
  },
  {
   "cell_type": "code",
   "execution_count": 12,
   "id": "81c6278b-b973-4b5d-8540-cfe3981d4bbe",
   "metadata": {},
   "outputs": [
    {
     "data": {
      "text/plain": [
       "matchesWithMapName: org.apache.spark.sql.DataFrame = [mapid: string, match_id: string ... 10 more fields]\n"
      ]
     },
     "execution_count": 12,
     "metadata": {},
     "output_type": "execute_result"
    }
   ],
   "source": [
    "val matchesWithMapName = matchesBucketed\n",
    "  .join(mapsBroadcasted, Seq(\"mapid\"), \"left\")"
   ]
  },
  {
   "cell_type": "code",
   "execution_count": null,
   "id": "cad988f0-eee1-47da-8432-8417d59a58ec",
   "metadata": {},
   "outputs": [],
   "source": [
    "# Bucket join match_details, matches, and medals_matches_players on match_id with 16 buckets\n",
    "# Bucketing splits your data into a fixed number of files (\"buckets\") by the column you choose—here, match_id.\n",
    "# When you write & then read bucketed tables on the same column, Spark can join them efficiently (avoiding shuffles)."
   ]
  },
  {
   "cell_type": "code",
   "execution_count": null,
   "id": "a0656311-a475-47ce-a7d7-5ddda24595e9",
   "metadata": {},
   "outputs": [],
   "source": [
    "#  Steps to Bucket the Three Tables\n",
    "# Write each table as a bucketed table on match_id (16 buckets):"
   ]
  },
  {
   "cell_type": "code",
   "execution_count": null,
   "id": "e3fd0134-dd69-4ec2-90ed-c6c8762199aa",
   "metadata": {},
   "outputs": [],
   "source": [
    "//If you want to double-check that it’s gone, you can list tables in the database:\n",
    "spark.sql(\"SHOW TABLES IN bootcamp\").show()\n"
   ]
  },
  {
   "cell_type": "code",
   "execution_count": null,
   "id": "173bd78f-913e-45d8-8469-bec6e9fb4093",
   "metadata": {},
   "outputs": [],
   "source": [
    "spark.sql(\"DROP TABLE IF EXISTS bootcamp.matches_bucketed\")\n",
    "spark.sql(\"DROP TABLE IF EXISTS bootcamp.match_details_bucketed\")\n",
    "spark.sql(\"DROP TABLE IF EXISTS bootcamp.medals_matches_players_bucketed\")"
   ]
  },
  {
   "cell_type": "code",
   "execution_count": null,
   "id": "db9c1275-2e47-40ef-95de-8e4ea882a944",
   "metadata": {},
   "outputs": [],
   "source": [
    "val matchesDDL = \"\"\"\n",
    "CREATE TABLE IF NOT EXISTS bootcamp.matches_bucketed (\n",
    "     match_id STRING,\n",
    "     mapid STRING,\n",
    "     is_team_game BOOLEAN,\n",
    "     playlist_id STRING,\n",
    "     game_variant_id STRING,\n",
    "     is_match_over BOOLEAN,\n",
    "     completion_date TIMESTAMP\n",
    " )\n",
    " USING iceberg\n",
    " PARTITIONED BY (completion_date, bucket(16, match_id))\n",
    "\"\"\"\n",
    "spark.sql(matchesDDL)"
   ]
  },
  {
   "cell_type": "code",
   "execution_count": null,
   "id": "1c823059-48bb-430b-b61a-0405c7111c4a",
   "metadata": {},
   "outputs": [],
   "source": []
  },
  {
   "cell_type": "code",
   "execution_count": null,
   "id": "3986f443-b241-46ed-8ec8-c2f4621913c6",
   "metadata": {},
   "outputs": [],
   "source": []
  },
  {
   "cell_type": "code",
   "execution_count": null,
   "id": "07c5e32d-1a78-49f8-83bd-2a5226b6a42f",
   "metadata": {},
   "outputs": [],
   "source": []
  },
  {
   "cell_type": "code",
   "execution_count": null,
   "id": "3d4b48c6-7109-468e-92a6-2ff7198b89ef",
   "metadata": {},
   "outputs": [],
   "source": []
  }
 ],
 "metadata": {
  "kernelspec": {
   "display_name": "spylon-kernel",
   "language": "scala",
   "name": "spylon-kernel"
  },
  "language_info": {
   "codemirror_mode": "text/x-scala",
   "file_extension": ".scala",
   "help_links": [
    {
     "text": "MetaKernel Magics",
     "url": "https://metakernel.readthedocs.io/en/latest/source/README.html"
    }
   ],
   "mimetype": "text/x-scala",
   "name": "scala",
   "pygments_lexer": "scala",
   "version": "0.4.1"
  }
 },
 "nbformat": 4,
 "nbformat_minor": 5
}
